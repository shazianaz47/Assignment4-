{
  "nbformat": 4,
  "nbformat_minor": 0,
  "metadata": {
    "colab": {
      "provenance": [],
      "authorship_tag": "ABX9TyOAyt1NXtIKxIBXb/2laWQl",
      "include_colab_link": true
    },
    "kernelspec": {
      "name": "python3",
      "display_name": "Python 3"
    },
    "language_info": {
      "name": "python"
    }
  },
  "cells": [
    {
      "cell_type": "markdown",
      "metadata": {
        "id": "view-in-github",
        "colab_type": "text"
      },
      "source": [
        "<a href=\"https://colab.research.google.com/github/shazianaz47/Assignment4-/blob/main/03_if_statements.ipynb\" target=\"_parent\"><img src=\"https://colab.research.google.com/assets/colab-badge.svg\" alt=\"Open In Colab\"/></a>"
      ]
    },
    {
      "cell_type": "code",
      "execution_count": null,
      "metadata": {
        "colab": {
          "base_uri": "https://localhost:8080/"
        },
        "id": "L3ry3sS89viK",
        "outputId": "b38422b6-611c-474a-b57e-0af9e3c4fd61"
      },
      "outputs": [
        {
          "output_type": "stream",
          "name": "stdout",
          "text": [
            "01_print_events\n",
            "Even Numbers:  0\n",
            "Even Numbers:  2\n",
            "Even Numbers:  4\n",
            "Even Numbers:  6\n",
            "Even Numbers:  8\n",
            "Even Numbers:  10\n",
            "Even Numbers:  12\n",
            "Even Numbers:  14\n",
            "Even Numbers:  16\n",
            "Even Numbers:  18\n",
            "Even Numbers:  20\n",
            "Even Numbers:  22\n",
            "Even Numbers:  24\n",
            "Even Numbers:  26\n",
            "Even Numbers:  28\n",
            "Even Numbers:  30\n",
            "Even Numbers:  32\n",
            "Even Numbers:  34\n",
            "Even Numbers:  36\n",
            "Even Numbers:  38\n",
            "Even Numbers:  40\n",
            "Even Numbers:  42\n",
            "Even Numbers:  44\n",
            "Even Numbers:  46\n",
            "Even Numbers:  48\n",
            "Even Numbers:  50\n",
            "Even Numbers:  52\n",
            "Even Numbers:  54\n",
            "Even Numbers:  56\n",
            "Even Numbers:  58\n",
            "Even Numbers:  60\n",
            "Even Numbers:  62\n",
            "Even Numbers:  64\n",
            "Even Numbers:  66\n",
            "Even Numbers:  68\n",
            "Even Numbers:  70\n",
            "Even Numbers:  72\n",
            "Even Numbers:  74\n",
            "Even Numbers:  76\n",
            "Even Numbers:  78\n"
          ]
        }
      ],
      "source": [
        "print(\"01_print_events\")\n",
        "\n",
        "def even_numbers():\n",
        "  for i in range(40):\n",
        "    print(\"Even Numbers: \",i*2 )\n",
        "\n",
        "\n",
        "if __name__ == \"__main__\":\n",
        "  even_numbers()\n",
        "\n",
        "\n"
      ]
    },
    {
      "cell_type": "code",
      "source": [
        "print(\"02_international_voting_age\")\n",
        "\n",
        "Peturksbouipo:int= 16\n",
        "Stanlau:int= 25\n",
        "Mayengua:int= 48\n",
        "\n",
        "age:int=int(input(\"How old are you?\"))\n",
        "def main():\n",
        "\n",
        "\n",
        "  if age >= Peturksbouipo:\n",
        "    print(f\"Your age is {age}, you are eligible to vote in Peturksbouipo \")\n",
        "  else:\n",
        "    print(f\"Your age is {age},you are  not eligible to vote in Peturksbouipo\")\n",
        "\n",
        "if age >= Stanlau:\n",
        "      print(f\"Your age is {age},you ar eligible to vote in Stanlau\")\n",
        "else:\n",
        "      print(f\"Your age is {age},you are  not eligible to vote in Stanlau\")\n",
        "\n",
        "if age >= Mayengua:\n",
        "      print(f\"Your age is {age},you are eligible to vote in Mayengua\")\n",
        "\n",
        "else:\n",
        "      print(f\"Your age is {age},you are  not eligible to vote in Mayengua\")\n",
        "\n",
        "if __name__ == \"__main__\":\n",
        "  main()\n"
      ],
      "metadata": {
        "colab": {
          "base_uri": "https://localhost:8080/"
        },
        "id": "C_VF4iTjBKXv",
        "outputId": "88cac9c1-2f67-4cf4-94f6-f40653f45348"
      },
      "execution_count": null,
      "outputs": [
        {
          "output_type": "stream",
          "name": "stdout",
          "text": [
            "02_international_voting_age\n",
            "How old are you?35\n",
            "Your age is 35,you ar eligible to vote in Stanlau\n",
            "Your age is 35,you are  not eligible to vote in Mayengua\n",
            "Your age is 35, you are eligible to vote in Peturksbouipo \n"
          ]
        }
      ]
    },
    {
      "cell_type": "code",
      "source": [
        "print(\"03_leap_year.\")\n",
        "\n",
        "def leap_year():\n",
        "  year:int=int(input(\"Enter a year. \"))\n",
        "\n",
        "  if year % 4 == 0:\n",
        "    if year % 100 == 0:\n",
        "      if year % 400 == 0:\n",
        "        print(f'{year} is a leap year.')\n",
        "      else:\n",
        "        print(f'{year} is not a leap year')\n",
        "    else:\n",
        "     print(f'{year} is not a leap year')\n",
        "  else:\n",
        "   print(f'{year} is not a leap year')\n",
        "\n",
        "if __name__ == \"__main__\":\n",
        "  leap_year()\n"
      ],
      "metadata": {
        "colab": {
          "base_uri": "https://localhost:8080/"
        },
        "id": "11SugoK7WZMt",
        "outputId": "ec64ba78-2a27-4d2d-d455-b5fd8cb2eb15"
      },
      "execution_count": 9,
      "outputs": [
        {
          "output_type": "stream",
          "name": "stdout",
          "text": [
            "03_leap_year.\n",
            "Enter a year. 420\n",
            "420 is not a leap year\n"
          ]
        }
      ]
    },
    {
      "cell_type": "code",
      "source": [
        "print(\"04_tall_enough_to_ride.\")\n",
        "\n",
        "min_height :int= 50\n",
        "def main():\n",
        "  user:int=int(input(\"How tall are you? \"))\n",
        "  if user >=min_height:\n",
        "    print(\"you are tall to enough ride. \")\n",
        "  else:\n",
        "    print(\"You are not tall enough to ride May be next year\")\n",
        "\n",
        "if __name__ ==\"__main__\":\n",
        "    main()\n"
      ],
      "metadata": {
        "colab": {
          "base_uri": "https://localhost:8080/"
        },
        "id": "zklTPwoichKO",
        "outputId": "190730f1-8df0-4632-9ea3-b2a721239e0f"
      },
      "execution_count": 17,
      "outputs": [
        {
          "output_type": "stream",
          "name": "stdout",
          "text": [
            "04_tall_enough_to_ride.\n",
            "How tall are you? 75\n",
            "you are tall to enough ride. \n"
          ]
        }
      ]
    },
    {
      "cell_type": "code",
      "source": [
        "from os import lseek\n",
        "import random\n",
        "\n",
        "print(\"05_random_numbers\")\n",
        "\n",
        "def main():\n",
        "  for i in range(10):\n",
        "     num:list[int] = random.randint(1,100)\n",
        "     print(num)\n",
        "\n",
        "if __name__ =='__main__':\n",
        "  main()\n",
        "\n",
        "\n",
        "\n",
        "\n"
      ],
      "metadata": {
        "colab": {
          "base_uri": "https://localhost:8080/"
        },
        "id": "CWs0XdXbgD9h",
        "outputId": "00853634-b90d-4455-b3a0-2639ccdd2189"
      },
      "execution_count": 18,
      "outputs": [
        {
          "output_type": "stream",
          "name": "stdout",
          "text": [
            "05_random_numbers\n",
            "43\n",
            "96\n",
            "66\n",
            "38\n",
            "100\n",
            "82\n",
            "87\n",
            "27\n",
            "36\n",
            "14\n"
          ]
        }
      ]
    }
  ]
}