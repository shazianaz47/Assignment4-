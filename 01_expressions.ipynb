{
  "nbformat": 4,
  "nbformat_minor": 0,
  "metadata": {
    "colab": {
      "provenance": [],
      "authorship_tag": "ABX9TyM3Eb59ODSL7CpWzuTMYg9k",
      "include_colab_link": true
    },
    "kernelspec": {
      "name": "python3",
      "display_name": "Python 3"
    },
    "language_info": {
      "name": "python"
    }
  },
  "cells": [
    {
      "cell_type": "markdown",
      "metadata": {
        "id": "view-in-github",
        "colab_type": "text"
      },
      "source": [
        "<a href=\"https://colab.research.google.com/github/shazianaz47/Assignment4-/blob/main/01_expressions.ipynb\" target=\"_parent\"><img src=\"https://colab.research.google.com/assets/colab-badge.svg\" alt=\"Open In Colab\"/></a>"
      ]
    },
    {
      "cell_type": "code",
      "execution_count": 3,
      "metadata": {
        "colab": {
          "base_uri": "https://localhost:8080/"
        },
        "id": "iAsKOfMn29NS",
        "outputId": "a8b4b5ee-423d-413f-c628-344f90fe97f8"
      },
      "outputs": [
        {
          "output_type": "stream",
          "name": "stdout",
          "text": [
            "01_dicesimulator\n",
            "die1 in main() start as :10\n",
            "total of two dice:8\n",
            "total of two dice:7\n",
            "total of two dice:7\n",
            "die1 in main() is:10\n"
          ]
        }
      ],
      "source": [
        "import random\n",
        "print('01_dicesimulator')\n",
        "\n",
        "def rolling_dice():\n",
        "  die1:int=random.randint(1,6)\n",
        "  die2:int=random.randint(1,6)\n",
        "  total:int=die1 +die2\n",
        "  print(f'total of two dice:{total}')\n",
        "\n",
        "def main():\n",
        "  die1:int=10\n",
        "  print(\"die1 in main() start as :\" +str(die1))\n",
        "  rolling_dice()\n",
        "  rolling_dice()\n",
        "  rolling_dice()\n",
        "  print(\"die1 in main() is:\" +str(die1))\n",
        "if __name__ == '__main__':\n",
        "  main()\n"
      ]
    },
    {
      "cell_type": "code",
      "source": [
        "print('02_e=mc2')\n",
        "\n",
        "def energy():\n",
        "  c:int=299792458    # The speed of light in m/s\n",
        "  mass:int=float(input(\"Mass in Kg:  \" ))\n",
        "  print('Energy= mass * (C ** 2)'+ \"joules\")\n",
        "  print('Mass =' +str(mass) +\"kg\")\n",
        "  print('C = ' +str(c) + 'm/s')\n",
        "  print('Energy = ' +str(mass*c**2) + 'joules')\n",
        "\n",
        "\n",
        "if __name__ == '__main__':\n",
        "  energy()\n"
      ],
      "metadata": {
        "colab": {
          "base_uri": "https://localhost:8080/"
        },
        "id": "gU95ol-o8ajg",
        "outputId": "72d28930-90a2-4d04-9471-d487e0ac9efa"
      },
      "execution_count": 10,
      "outputs": [
        {
          "output_type": "stream",
          "name": "stdout",
          "text": [
            "02_e=mc2\n",
            "Mass in Kg:  20\n",
            "Energy= mass * (C ** 2)joules\n",
            "Mass =20.0kg\n",
            "C = 299792458m/s\n",
            "Energy = 1.7975103574736353e+18joules\n"
          ]
        }
      ]
    },
    {
      "cell_type": "code",
      "source": [
        "print('03_feet_to_inches')\n",
        "inch:int=12\n",
        "\n",
        "def INCHES_IN_FOOT():\n",
        "  feet:float=(input(\"Enter number of feet: \"))\n",
        "  inches:float=(feet*inch)\n",
        "  print(f'there are {inches}inches in {feet} feet.')\n",
        "\n",
        "if __name__ == '__main__':\n",
        "  INCHES_IN_FOOT()\n",
        "\n"
      ],
      "metadata": {
        "colab": {
          "base_uri": "https://localhost:8080/"
        },
        "id": "jbOnu5pTFVwP",
        "outputId": "133f8ce5-7df7-4836-fdfd-f5569fe05da6"
      },
      "execution_count": 20,
      "outputs": [
        {
          "output_type": "stream",
          "name": "stdout",
          "text": [
            "03_feet_to_inches\n",
            "Enter number of feet: 45\n",
            "there are 454545454545454545454545inches in 45 feet.\n"
          ]
        }
      ]
    },
    {
      "cell_type": "code",
      "source": [
        "import math\n",
        "print('04_pythagorean_theorem')\n",
        "\n",
        "def Hypoteneous():\n",
        " # Get the two side lengths from the user and cast them to be numbers\n",
        "  side1 = float(input(\"Enter the length of AB: \"))  # Pehli perpendicular side\n",
        "  side2 = float(input(\"Enter the length of AC: \"))  # Doosri perpendicular side\n",
        "\n",
        "  # Pythagorean theorem ka istemal\n",
        "  hypotenuse = math.sqrt(side1 ** 2 + side2 ** 2)\n",
        "\n",
        "  # Result print karna\n",
        "  print(f\"The length of BC (the hypotenuse) is: {hypotenuse:.2f}\")\n",
        "\n",
        "if __name__ == '__main__':\n",
        "  Hypoteneous()\n"
      ],
      "metadata": {
        "colab": {
          "base_uri": "https://localhost:8080/"
        },
        "id": "wC1hGqVaK8Mj",
        "outputId": "727267b0-72de-4cd0-94a1-02e80986ec29"
      },
      "execution_count": 26,
      "outputs": [
        {
          "output_type": "stream",
          "name": "stdout",
          "text": [
            "04_pythagorean_theorem\n",
            "Enter the length of AB: 3\n",
            "Enter the length of AC: 2\n",
            "The length of BC (the hypotenuse) is: 3.61\n"
          ]
        }
      ]
    },
    {
      "cell_type": "code",
      "source": [
        "print('05_remainder_division')\n",
        "\n",
        "def remainder():\n",
        "  dividend:int=int(input(\"Enter an integer to be divided:  \"))\n",
        "  divisor:int=int(input(\"Enter an integer to divide by:  \" ))\n",
        "  quotient: int = dividend // divisor  # Divide with no remainder/decimals\n",
        "  remainder: int =dividend % divisor # Get the remainder of the division (modulo)\n",
        "  print('The result of the devision is: ' + str(quotient) + \" with a remainder of \" + str(remainder))\n",
        "\n",
        "if __name__ == '__main__':\n",
        "  remainder()"
      ],
      "metadata": {
        "colab": {
          "base_uri": "https://localhost:8080/"
        },
        "id": "UFicb8ihRZ1r",
        "outputId": "b475814e-1ed2-4891-8686-619206100a1d"
      },
      "execution_count": 36,
      "outputs": [
        {
          "output_type": "stream",
          "name": "stdout",
          "text": [
            "05_remainder_division\n",
            "Enter an integer to be divided:  45\n",
            "Enter an integer to divide by:  6\n",
            "The result of the devision is: 7 with a remainder of 3\n"
          ]
        }
      ]
    },
    {
      "cell_type": "code",
      "source": [
        "print('06_rolldice')\n",
        "import random\n",
        "\n",
        "def dice():\n",
        "  die1:int=random.randint(1,6)\n",
        "  die2:int=random.randint(1,6)\n",
        "  total:int=int(die1+die2)\n",
        "  print('first die:' + str(die1))\n",
        "  print('secondt die:' +str( die1))\n",
        "  print(f'Total of two dice: {total}')\n",
        "\n",
        "if __name__ == '__main__':\n",
        "  dice()\n"
      ],
      "metadata": {
        "colab": {
          "base_uri": "https://localhost:8080/"
        },
        "id": "mP6OEWzlbRG8",
        "outputId": "f9743aa4-f941-475e-8dcb-b4224e8a38ef"
      },
      "execution_count": 38,
      "outputs": [
        {
          "output_type": "stream",
          "name": "stdout",
          "text": [
            "06_rolldice\n",
            "first die:5\n",
            "secondt die:5\n",
            "Total of two dice: 8\n"
          ]
        }
      ]
    },
    {
      "cell_type": "code",
      "source": [
        "print('07_seconds_in_year')\n",
        "\n",
        "das_in_year:int=365\n",
        "hours_per_days:int=24\n",
        "minutes_per_hour:int=60\n",
        "seconds_per_minutes:int=60\n",
        "\n",
        "def seconds():\n",
        "  print(f'there are {das_in_year*hours_per_days*minutes_per_hour*seconds_per_minutes} seconds in a year')\n",
        "\n",
        "if __name__ == '__main__':\n",
        "  seconds()"
      ],
      "metadata": {
        "colab": {
          "base_uri": "https://localhost:8080/"
        },
        "id": "1PBbEGrZdSsP",
        "outputId": "624aa00d-8377-4288-d60d-abcfe3d4a2e8"
      },
      "execution_count": 40,
      "outputs": [
        {
          "output_type": "stream",
          "name": "stdout",
          "text": [
            "07_seconds_in_year\n",
            "there are 31536000 seconds in a year\n"
          ]
        }
      ]
    },
    {
      "cell_type": "code",
      "source": [
        "print('08_tiny_mad_lib')\n",
        "\n",
        "def tiny_mad_lib():\n",
        "  adjective:str=str(input('Enter an adjective: '))\n",
        "  noun:str=str(input('Enter an noun: '))\n",
        "  verb:str=str(input('please type an verb: '))\n",
        "\n",
        "  print(f'Code in Place is fun. I learned to program and used Python to make my {adjective} {noun} {verb}!')\n",
        "\n",
        "\n",
        "if __name__ == '__main__':\n",
        "  tiny_mad_lib()"
      ],
      "metadata": {
        "colab": {
          "base_uri": "https://localhost:8080/"
        },
        "id": "DPjNBjEVfQTH",
        "outputId": "05cf2b46-7046-425e-b22d-d76f3de5f26d"
      },
      "execution_count": 45,
      "outputs": [
        {
          "output_type": "stream",
          "name": "stdout",
          "text": [
            "08_tiny_mad_lib\n",
            "Enter an adjective: tiny\n",
            "Enter an noun: plant\n",
            "please type an verb: fly\n",
            "Code in Place is fun. I learned to program and used Python to make my tiny plant fly!\n"
          ]
        }
      ]
    }
  ]
}