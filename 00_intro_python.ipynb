{
  "nbformat": 4,
  "nbformat_minor": 0,
  "metadata": {
    "colab": {
      "provenance": [],
      "authorship_tag": "ABX9TyPyPG6xoKnSBQXE3wI0Q+Yl",
      "include_colab_link": true
    },
    "kernelspec": {
      "name": "python3",
      "display_name": "Python 3"
    },
    "language_info": {
      "name": "python"
    }
  },
  "cells": [
    {
      "cell_type": "markdown",
      "metadata": {
        "id": "view-in-github",
        "colab_type": "text"
      },
      "source": [
        "<a href=\"https://colab.research.google.com/github/shazianaz47/Assignment4-/blob/main/00_intro_python.ipynb\" target=\"_parent\"><img src=\"https://colab.research.google.com/assets/colab-badge.svg\" alt=\"Open In Colab\"/></a>"
      ]
    },
    {
      "cell_type": "code",
      "execution_count": null,
      "metadata": {
        "colab": {
          "base_uri": "https://localhost:8080/"
        },
        "id": "nH5uCDjkn-JN",
        "outputId": "2e9efaee-f08a-4282-baf1-c06da6f90fe2"
      },
      "outputs": [
        {
          "output_type": "stream",
          "name": "stdout",
          "text": [
            "01_add_two_numbers.\n",
            "Application adding for two numbers\n",
            "Enter your first number.20\n",
            "Enter your second number.12\n",
            "sum of 20 and 12 is 32\n"
          ]
        }
      ],
      "source": [
        "print('01_add_two_numbers.')\n",
        "def add():\n",
        "  print(\"Application adding for two numbers\")\n",
        "  num1 = int(input(\"Enter your first number.\"))\n",
        "  num2 = int(input(\"Enter your second number.\"))\n",
        "  sum = int(num1 + num2)\n",
        "  print(f\"sum of {num1} and {num2} is {sum}\")\n",
        "\n",
        "if __name__ == '__main__':#type guard\n",
        "  add()"
      ]
    },
    {
      "cell_type": "code",
      "source": [
        "print('02_agreement_bot.')\n",
        "\n",
        "def agreement_bot():\n",
        "  animal = str(input('What is your Favorite animal?'))\n",
        "  print(f\"My favorite animal is also {animal}!\")\n",
        "\n",
        "if __name__ == '__main__':\n",
        "  agreement_bot()"
      ],
      "metadata": {
        "colab": {
          "base_uri": "https://localhost:8080/"
        },
        "id": "OtiyM4Odsbbn",
        "outputId": "10bdd9cd-dc70-4521-c311-505582957997"
      },
      "execution_count": null,
      "outputs": [
        {
          "output_type": "stream",
          "name": "stdout",
          "text": [
            "02_agreement_bot.\n",
            "What is your Favorite animal?peacoke\n",
            "My favorite animal is also peacoke!\n"
          ]
        }
      ]
    },
    {
      "cell_type": "code",
      "source": [
        "print('03_fahrenheit_to_celsius.')\n",
        "\n",
        "def tempt():\n",
        "  print(\"App for coverting fahrenheit to celsius\")\n",
        "  fahrenheit_degree =float(input('Enter your fahrenheit degree: '))\n",
        "  degrees_celsius = (fahrenheit_degree - 32) * 5.0/9.0\n",
        "  print(f\"Temperature is {fahrenheit_degree}f to {degrees_celsius}c\")\n",
        "\n",
        "if __name__ == '__main__':\n",
        "  tempt()"
      ],
      "metadata": {
        "colab": {
          "base_uri": "https://localhost:8080/"
        },
        "id": "jSd39ZRAwQ5d",
        "outputId": "30751904-b444-4f90-8c9c-14c7b71d4e51"
      },
      "execution_count": null,
      "outputs": [
        {
          "output_type": "stream",
          "name": "stdout",
          "text": [
            "03_fahrenheit_to_celsius.\n",
            "App for coverting fahrenheit to celsius\n",
            "Enter your fahrenheit degree: 45\n",
            "Temperature is 45.0f to 7.222222222222222c\n"
          ]
        }
      ]
    },
    {
      "cell_type": "code",
      "source": [
        "print('04_how_old_are_they.')\n",
        "\n",
        "def age_riddle():\n",
        "  print('App for knowing how old are they. ')\n",
        "  anthon:int = 21    #Anton is 21 years old.\n",
        "  beth:int = 6 + anthon\n",
        "  chen:int = 20 + beth\n",
        "  drew : int=chen + anthon\n",
        "  ethan:int = chen\n",
        "\n",
        "  print(\"Anthon = \" + str(anthon) +\" years old\")\n",
        "  print(\"Beth = \" + str(beth) +\" years old\")\n",
        "  print(\"Chen = \" + str(chen) +\" years old\")\n",
        "  print(\"Drew = \" + str(drew) +\" years old\")\n",
        "  print(\"Ethan = \"+ str(ethan) +\" years old\")\n",
        "\n",
        "if __name__ == '__main__':\n",
        "  age_riddle()"
      ],
      "metadata": {
        "colab": {
          "base_uri": "https://localhost:8080/"
        },
        "id": "gEvffwRRzMzZ",
        "outputId": "bcb2d67d-cade-4d43-f181-d2b63c9d0c90"
      },
      "execution_count": null,
      "outputs": [
        {
          "output_type": "stream",
          "name": "stdout",
          "text": [
            "04_how_old_are_they.\n",
            "App for knowing how old are they. \n",
            "Anthon = 21 years old\n",
            "Beth = 27 years old\n",
            "Chen = 47 years old\n",
            "Drew = 68 years old\n",
            "Ethan = 47 years old\n"
          ]
        }
      ]
    },
    {
      "cell_type": "code",
      "source": [
        "print('05_triangle_perimeter.')\n",
        "\n",
        "def triangle_perimeter():\n",
        "  print('App for perimeter of the triangle')\n",
        "\n",
        "  side1:float=float(input('What is the length of side1?  =  '))\n",
        "  side2:float=float(input('What is the length of side2?  =  '))\n",
        "  side3:float=float(input('What is the  length of side3?  =  '))\n",
        "\n",
        "  print('The Perimeter of triangle =  ' + str(side1 + side2 +side3))\n",
        "\n",
        "if __name__ == '__main__':\n",
        "  triangle_perimeter()"
      ],
      "metadata": {
        "colab": {
          "base_uri": "https://localhost:8080/"
        },
        "id": "PE5IAMBV7R1l",
        "outputId": "dadb6e6e-1609-4c6f-d8bd-379b198ec3a8"
      },
      "execution_count": null,
      "outputs": [
        {
          "output_type": "stream",
          "name": "stdout",
          "text": [
            "05_triangle_perimeter.\n",
            "App for perimeter of the triangle\n",
            "What is the length of side1?  =  0\n",
            "What is the length of side2?  =  20\n",
            "What is the  length of side3?  =  20\n",
            "The Perimeter of triangle =  40.0\n"
          ]
        }
      ]
    },
    {
      "cell_type": "code",
      "source": [
        "print('06_square_number.')\n",
        "\n",
        "def square_number():\n",
        "  print('App for doing square of the numbers')\n",
        "\n",
        "  num:int=int(input('Enter the number'))\n",
        "  square:int=int(num ** 2)\n",
        "\n",
        "  print('square of the number is :' + str(square))\n",
        "\n",
        "if __name__ == '__main__':\n",
        "  square_number()\n",
        "\n"
      ],
      "metadata": {
        "colab": {
          "base_uri": "https://localhost:8080/"
        },
        "id": "Q0gWZTfx_Sgw",
        "outputId": "f2285e33-af25-4197-8bcf-ce0217a2e667"
      },
      "execution_count": null,
      "outputs": [
        {
          "output_type": "stream",
          "name": "stdout",
          "text": [
            "06_square_number.\n",
            "App for doing square of the numbers\n",
            "Enter the number5\n",
            "square of the number is :25\n"
          ]
        }
      ]
    }
  ]
}