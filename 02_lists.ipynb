{
  "nbformat": 4,
  "nbformat_minor": 0,
  "metadata": {
    "colab": {
      "provenance": [],
      "authorship_tag": "ABX9TyNWqrSyvKLOznrtNiSL9qZ0",
      "include_colab_link": true
    },
    "kernelspec": {
      "name": "python3",
      "display_name": "Python 3"
    },
    "language_info": {
      "name": "python"
    }
  },
  "cells": [
    {
      "cell_type": "markdown",
      "metadata": {
        "id": "view-in-github",
        "colab_type": "text"
      },
      "source": [
        "<a href=\"https://colab.research.google.com/github/shazianaz47/Assignment4-/blob/main/02_lists.ipynb\" target=\"_parent\"><img src=\"https://colab.research.google.com/assets/colab-badge.svg\" alt=\"Open In Colab\"/></a>"
      ]
    },
    {
      "cell_type": "code",
      "execution_count": null,
      "metadata": {
        "colab": {
          "base_uri": "https://localhost:8080/"
        },
        "id": "vCN_nufCKL9a",
        "outputId": "34d964f7-cfbc-43b3-a7a7-ea21d10a5ce5"
      },
      "outputs": [
        {
          "output_type": "stream",
          "name": "stdout",
          "text": [
            "01_add_many_number\n",
            "sum  :  5\n"
          ]
        }
      ],
      "source": [
        "print('01_add_many_number')\n",
        "\n",
        "def add_many_numbers(numbers)->int:\n",
        "  num:int=0\n",
        "  for i in numbers:\n",
        "    num += 1\n",
        "  return num\n",
        "\n",
        "def main():\n",
        "  numbers:list[int]=[1,2,3,4,5]\n",
        "  sum=add_many_numbers(numbers)\n",
        "  print('sum  : ' ,sum)\n",
        "\n",
        "if __name__ == '__main__':\n",
        "  main()"
      ]
    },
    {
      "cell_type": "code",
      "source": [
        "print('02_double_list')\n",
        "\n",
        "def double_elements():   # Define a function `double_elements\n",
        "  numbers:list[int]=[1,2,3,4,5,6,7,8,9] #Initialize a list `numbers` with integers.\n",
        "  for i in range(len(numbers)):#Iterate through the list using a loop\n",
        "    index= numbers[i]\n",
        "    numbers[i]=index*2  #multiply each element by 2.\n",
        "  print(numbers) #Print the modified list.\n",
        "\n",
        "if __name__ == '__main__': #to call the function when the script runs.\n",
        "  double_elements()"
      ],
      "metadata": {
        "colab": {
          "base_uri": "https://localhost:8080/"
        },
        "id": "ZQcVhWp-nkyA",
        "outputId": "8c0cf45c-f160-4ae1-d92b-112ca8bbfa2f"
      },
      "execution_count": null,
      "outputs": [
        {
          "output_type": "stream",
          "name": "stdout",
          "text": [
            "02_double_list\n",
            "[2, 4, 6, 8, 10, 12, 14, 16, 18]\n"
          ]
        }
      ]
    },
    {
      "cell_type": "code",
      "source": [
        "print('04_flowing_with_data_structures')\n",
        "\n",
        "def add_3_copies(list,data):\n",
        "  for i in range(3):      # 3 martaba loop chalega\n",
        "    list.append(data)     # List mein data add karega\n",
        "\n",
        "def main():\n",
        "  messege=input(\"enter a message to copy.\") # User se ek message lene ke liye\n",
        "  list=[]       # Empty list banayi\n",
        "  print('before list:',list)\n",
        "  add_3_copies(list,messege)\n",
        "  print('after list: ',list)\n",
        "\n",
        "if __name__ == '__main__':\n",
        "  main()"
      ],
      "metadata": {
        "colab": {
          "base_uri": "https://localhost:8080/"
        },
        "id": "RA0dB-ahspto",
        "outputId": "8c9e2500-a153-45a3-a142-0763a2d03e4b"
      },
      "execution_count": null,
      "outputs": [
        {
          "output_type": "stream",
          "name": "stdout",
          "text": [
            "04_flowing_with_data_structures\n",
            "enter a message to copy.hello world\n",
            "before list: []\n",
            "after list:  ['hello world', 'hello world', 'hello world']\n"
          ]
        }
      ]
    },
    {
      "cell_type": "code",
      "source": [
        "print('05_get_first_element')\n",
        "\n",
        "def get_first_element(lst):\n",
        "  print(lst[0])\n",
        "\n",
        "def get_lst():\n",
        "    lst=[]\n",
        "    elem:str=input('enter an element to add to the list ')\n",
        "    while elem != \"\":\n",
        "      lst.append(elem)\n",
        "      elem=input('enter an element to add to the list ')\n",
        "    return lst\n",
        "def main():\n",
        "  lst=get_lst()\n",
        "  get_first_element(lst)\n",
        "''\n",
        "if __name__ == '__main__':\n",
        "  main()\n",
        "\n",
        "\n"
      ],
      "metadata": {
        "id": "m_rigWS51lEI",
        "colab": {
          "base_uri": "https://localhost:8080/"
        },
        "outputId": "cd648abb-5ceb-4d5c-a823-4bdbed44dc58"
      },
      "execution_count": null,
      "outputs": [
        {
          "output_type": "stream",
          "name": "stdout",
          "text": [
            "05_get_first_element\n",
            "enter an element to add to the lista\n",
            "enter an element to add to the listb\n",
            "enter an element to add to the listc\n",
            "enter an element to add to the list\n",
            "a\n"
          ]
        }
      ]
    },
    {
      "cell_type": "code",
      "source": [
        "print('06_get_last_element')\n",
        "\n",
        "def get_last_element(lst):\n",
        "  print(lst[-1])\n",
        "\n",
        "def get_lst():\n",
        "    lst=[]\n",
        "    elem:str=input('enter an element to add to the list ')\n",
        "    while elem != \"\":\n",
        "      lst.append(elem)\n",
        "      elem=input('enter an element to add to the list ')\n",
        "    return lst\n",
        "\n",
        "def main():\n",
        "  lst=get_lst()\n",
        "  get_last_element(lst)\n",
        "''\n",
        "if __name__ == '__main__':\n",
        "  main()\n",
        "\n",
        "\n",
        "\n",
        "\n"
      ],
      "metadata": {
        "id": "VYDzaR2Y817E",
        "colab": {
          "base_uri": "https://localhost:8080/"
        },
        "outputId": "a84997dd-845d-4d6b-f205-14ab3201c1c9"
      },
      "execution_count": 1,
      "outputs": [
        {
          "output_type": "stream",
          "name": "stdout",
          "text": [
            "06_get_last_element\n",
            "enter an element to add to the list r\n",
            "enter an element to add to the list l\n",
            "enter an element to add to the list o\n",
            "enter an element to add to the list t\n",
            "enter an element to add to the list \n",
            "t\n"
          ]
        }
      ]
    },
    {
      "cell_type": "code",
      "source": [
        "print('7_get_list')\n",
        "\n",
        "def main():\n",
        "  lst=[]\n",
        "  val=input(\"Enter a value to add to the list.\")\n",
        "  while val:\n",
        "    lst.append(val)\n",
        "    val=input(\"Enter a value to add to the list.\")\n",
        "  print(\"Here's the list : \", lst)\n",
        "\n",
        "if __name__ == \"__main__\":\n",
        "  main()"
      ],
      "metadata": {
        "colab": {
          "base_uri": "https://localhost:8080/"
        },
        "id": "bU_YLVWzsZgT",
        "outputId": "2c4141af-b6cd-47b1-e935-91bd81d1fd99"
      },
      "execution_count": 3,
      "outputs": [
        {
          "output_type": "stream",
          "name": "stdout",
          "text": [
            "7_get_list\n",
            "Enter a value to add to the list.Nadia\n",
            "Enter a value to add to the list.hazia\n",
            "Enter a value to add to the list.Sohail\n",
            "Enter a value to add to the list.Naz\n",
            "Enter a value to add to the list.\n",
            "Here's the list :  ['Nadia', 'hazia', 'Sohail', 'Naz']\n"
          ]
        }
      ]
    },
    {
      "cell_type": "code",
      "source": [
        "print('08_shorten')\n",
        "\n",
        "MAX_LENGTH:int=3\n",
        "def shorten(lst):\n",
        "  while len(lst) >= MAX_LENGTH:\n",
        "    last_element=lst.pop()\n",
        "    print(last_element)\n",
        "\n",
        "def get_lst():\n",
        "  lst=[]\n",
        "  element=input(\"Enter an element to add to the list:\")\n",
        "  while element !=\"\":\n",
        "    lst.append(element)\n",
        "    element=input(\"Enter an element to add to the list:\")\n",
        "  return lst\n",
        "def main():\n",
        "  lst=get_lst()\n",
        "  shorten(lst)\n",
        "\n",
        "if __name__ == \"__main__\":\n",
        "  main()\n",
        "\n",
        "\n",
        "\n"
      ],
      "metadata": {
        "colab": {
          "base_uri": "https://localhost:8080/"
        },
        "id": "Fixmqti2uIMH",
        "outputId": "cfc1d7ff-1099-4a0d-db6c-6c883815177e"
      },
      "execution_count": 5,
      "outputs": [
        {
          "output_type": "stream",
          "name": "stdout",
          "text": [
            "08_shorten\n",
            "Enter an element to add to the list:a\n",
            "Enter an element to add to the list:x\n",
            "Enter an element to add to the list:v\n",
            "Enter an element to add to the list:n\n",
            "Enter an element to add to the list:m\n",
            "Enter an element to add to the list:\n",
            "m\n",
            "n\n",
            "v\n"
          ]
        }
      ]
    }
  ]
}